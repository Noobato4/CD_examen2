{
 "cells": [
  {
   "cell_type": "code",
   "execution_count": 1,
   "id": "1282aeca",
   "metadata": {
    "_cell_guid": "b1076dfc-b9ad-4769-8c92-a6c4dae69d19",
    "_uuid": "8f2839f25d086af736a60e9eeb907d3b93b6e0e5",
    "execution": {
     "iopub.execute_input": "2024-04-25T07:10:38.429236Z",
     "iopub.status.busy": "2024-04-25T07:10:38.428770Z",
     "iopub.status.idle": "2024-04-25T07:10:39.190107Z",
     "shell.execute_reply": "2024-04-25T07:10:39.187632Z"
    },
    "papermill": {
     "duration": 0.769258,
     "end_time": "2024-04-25T07:10:39.192307",
     "exception": false,
     "start_time": "2024-04-25T07:10:38.423049",
     "status": "completed"
    },
    "tags": []
   },
   "outputs": [
    {
     "name": "stdout",
     "output_type": "stream",
     "text": [
      "/kaggle/input/atus-inegi/conjunto_de_datos/atus_anual_2005.csv\n",
      "/kaggle/input/atus-inegi/conjunto_de_datos/atus_anual_2004.csv\n",
      "/kaggle/input/atus-inegi/conjunto_de_datos/atus_anual_2021.csv\n",
      "/kaggle/input/atus-inegi/conjunto_de_datos/atus_anual_2017.csv\n",
      "/kaggle/input/atus-inegi/conjunto_de_datos/atus_anual_2003.csv\n",
      "/kaggle/input/atus-inegi/conjunto_de_datos/atus_anual_2012.csv\n",
      "/kaggle/input/atus-inegi/conjunto_de_datos/atus_anual_2014.csv\n",
      "/kaggle/input/atus-inegi/conjunto_de_datos/atus_anual_2010.csv\n",
      "/kaggle/input/atus-inegi/conjunto_de_datos/atus_anual_2007.csv\n",
      "/kaggle/input/atus-inegi/conjunto_de_datos/atus_anual_2016.csv\n",
      "/kaggle/input/atus-inegi/conjunto_de_datos/atus_anual_1998.csv\n",
      "/kaggle/input/atus-inegi/conjunto_de_datos/atus_anual_2006.csv\n",
      "/kaggle/input/atus-inegi/conjunto_de_datos/atus_anual_2009.csv\n",
      "/kaggle/input/atus-inegi/conjunto_de_datos/atus_anual_2008.csv\n",
      "/kaggle/input/atus-inegi/conjunto_de_datos/atus_anual_2011.csv\n",
      "/kaggle/input/atus-inegi/conjunto_de_datos/atus_anual_2022.csv\n",
      "/kaggle/input/atus-inegi/conjunto_de_datos/atus_anual_2019.csv\n",
      "/kaggle/input/atus-inegi/conjunto_de_datos/atus_anual_2002.csv\n",
      "/kaggle/input/atus-inegi/conjunto_de_datos/atus_anual_2020.csv\n",
      "/kaggle/input/atus-inegi/conjunto_de_datos/atus_anual_2001.csv\n",
      "/kaggle/input/atus-inegi/conjunto_de_datos/atus_anual_2015.csv\n",
      "/kaggle/input/atus-inegi/conjunto_de_datos/atus_anual_2000.csv\n",
      "/kaggle/input/atus-inegi/conjunto_de_datos/atus_anual_1997.csv\n",
      "/kaggle/input/atus-inegi/conjunto_de_datos/atus_anual_2013.csv\n",
      "/kaggle/input/atus-inegi/conjunto_de_datos/atus_anual_1999.csv\n",
      "/kaggle/input/atus-inegi/conjunto_de_datos/atus_anual_2018.csv\n"
     ]
    }
   ],
   "source": [
    "import numpy as np \n",
    "import pandas as pd \n",
    "import os\n",
    "for dirname, _, filenames in os.walk('/kaggle/input'):\n",
    "    for filename in filenames:\n",
    "        print(os.path.join(dirname, filename))"
   ]
  },
  {
   "cell_type": "markdown",
   "id": "2d4c7610",
   "metadata": {
    "papermill": {
     "duration": 0.002808,
     "end_time": "2024-04-25T07:10:39.198875",
     "exception": false,
     "start_time": "2024-04-25T07:10:39.196067",
     "status": "completed"
    },
    "tags": []
   },
   "source": [
    "# Cargar en un Dataframe de pandas los archivos para poder trabajar con ellos\n",
    "\n",
    "antes de concatenar los archivos, verificamos si se leyeron de forma correcta por que habia algunos archivos que recorrian la primer columna y la utilizaban como indice."
   ]
  },
  {
   "cell_type": "code",
   "execution_count": 2,
   "id": "48026d81",
   "metadata": {
    "execution": {
     "iopub.execute_input": "2024-04-25T07:10:39.206494Z",
     "iopub.status.busy": "2024-04-25T07:10:39.206019Z",
     "iopub.status.idle": "2024-04-25T07:12:02.997555Z",
     "shell.execute_reply": "2024-04-25T07:12:02.996409Z"
    },
    "papermill": {
     "duration": 83.801021,
     "end_time": "2024-04-25T07:12:03.002878",
     "exception": false,
     "start_time": "2024-04-25T07:10:39.201857",
     "status": "completed"
    },
    "tags": []
   },
   "outputs": [
    {
     "name": "stdout",
     "output_type": "stream",
     "text": [
      "   COBERTURA  ID_ENTIDAD  ID_MUNICIPIO  ANIO  MES  ID_HORA  ID_MINUTO  ID_DIA  \\\n",
      "0  Municipal           1             1  1997    1       20          0       7   \n",
      "1  Municipal           1             1  1997    1       20          0      19   \n",
      "\n",
      "  DIASEMANA                        URBANA  ... PEATMUERTO PEATHERIDO  \\\n",
      "0    Martes  Accidente en no intersección  ...          0          0   \n",
      "1   Domingo     Accidente en intersección  ...          0          0   \n",
      "\n",
      "   CICLMUERTO  CICLHERIDO  OTROMUERTO  OTROHERIDO  NEMUERTO  NEHERIDO  \\\n",
      "0           0           0           0           0         0         0   \n",
      "1           0           0           0           0         0         0   \n",
      "\n",
      "      CLASACC           ESTATUS  \n",
      "0  Sólo daños  Cifras Revisadas  \n",
      "1    No fatal  Cifras Revisadas  \n",
      "\n",
      "[2 rows x 45 columns]\n"
     ]
    }
   ],
   "source": [
    "#Años de los archivos que tuvieron el problema antes mencionado: 1997,1998,1999,2000,2001,\n",
    "#2002,2003,2004,2005,2006,2007,2008,2009,2010,2011,2012,2013,2014,2015,2016,2017,2018,2019,\n",
    "#2020 y 2021...... osea de 1997-2021\n",
    "\n",
    "# Leer los archivos para luego unirlos, los primeros 25 tenian problemas con el indice :/\n",
    "\n",
    "# Lista de años con el indice mal\n",
    "años = [1997,1998,1999,2000,2001,2002,2003,2004,2005,2006,2007,2008,2009,2010, 2011, 2012, 2013, 2014, 2015, 2016, 2017, 2018, 2019, 2020, 2021]\n",
    "\n",
    "# el 2022 que quedo solo por que es el unico sin problemas de indice\n",
    "añosb = [2022]\n",
    "\n",
    "# Ruta base donde se encuentran los archivos\n",
    "base_path = '/kaggle/input/atus-inegi/conjunto_de_datos/atus_anual_{}.csv'\n",
    "\n",
    "# Lista para almacenar los DataFrames\n",
    "dfs = []\n",
    "\n",
    "# Leer cada archivo y agregarlo a la lista de DataFrames\n",
    "for year in años:\n",
    "    # Construir la ruta completa del archivo para el año actual\n",
    "    file_path = base_path.format(year)\n",
    "    # Leer el archivo y especificar index_col=False\n",
    "    df1 = pd.read_csv(file_path, index_col =False)\n",
    "    # Agregar el DataFrame a la lista\n",
    "    dfs.append(df1)\n",
    "\n",
    "# Lo mismo pal 2022\n",
    "for year in añosb:\n",
    "    file_path = base_path.format(year)\n",
    "    df2 = pd.read_csv(file_path)\n",
    "    dfs.append(df2)\n",
    "    \n",
    "data_frame = pd.concat(dfs)\n",
    "print(data_frame.head(2))"
   ]
  },
  {
   "cell_type": "markdown",
   "id": "926eef4e",
   "metadata": {
    "papermill": {
     "duration": 0.00265,
     "end_time": "2024-04-25T07:12:03.008552",
     "exception": false,
     "start_time": "2024-04-25T07:12:03.005902",
     "status": "completed"
    },
    "tags": []
   },
   "source": [
    "Para probar que se cargaron sin problemas los datos probamos checando que la columna anio tenga de valor minimo 1997 que es anio del archivo mas viejo, y valor maximo 22 que es el anio mas reciente del dataset, ademas de el total de registros, que debe ser un numero muy muy grande."
   ]
  },
  {
   "cell_type": "code",
   "execution_count": 3,
   "id": "eefaeba7",
   "metadata": {
    "execution": {
     "iopub.execute_input": "2024-04-25T07:12:03.016395Z",
     "iopub.status.busy": "2024-04-25T07:12:03.015417Z",
     "iopub.status.idle": "2024-04-25T07:12:03.043813Z",
     "shell.execute_reply": "2024-04-25T07:12:03.042438Z"
    },
    "papermill": {
     "duration": 0.034683,
     "end_time": "2024-04-25T07:12:03.046049",
     "exception": false,
     "start_time": "2024-04-25T07:12:03.011366",
     "status": "completed"
    },
    "tags": []
   },
   "outputs": [
    {
     "name": "stdout",
     "output_type": "stream",
     "text": [
      "El año más bajo en la columna ANIO es: 1997\n",
      "El año más alto en la columna ANIO es: 2022\n",
      "El DataFrame tiene un total de 9943594 registros.\n"
     ]
    }
   ],
   "source": [
    "# Encontrar el año más bajo\n",
    "anio_minimo = data_frame['ANIO'].min()\n",
    "anio_maximo = data_frame['ANIO'].max()\n",
    "\n",
    "# Imprimir el resultado\n",
    "print(\"El año más bajo en la columna ANIO es:\", anio_minimo)\n",
    "print(\"El año más alto en la columna ANIO es:\", anio_maximo)\n",
    "\n",
    "#imprimir numero total de registros del dataset\n",
    "# Obtener el número total de registros\n",
    "total_registros = data_frame.shape[0]\n",
    "\n",
    "# Imprimir el resultado\n",
    "print(\"El DataFrame tiene un total de\", total_registros, \"registros.\")"
   ]
  },
  {
   "cell_type": "markdown",
   "id": "b2cd37b3",
   "metadata": {
    "papermill": {
     "duration": 0.002755,
     "end_time": "2024-04-25T07:12:03.052039",
     "exception": false,
     "start_time": "2024-04-25T07:12:03.049284",
     "status": "completed"
    },
    "tags": []
   },
   "source": [
    "# Preparar datos\n",
    "En los campos nulos de los registros del dataset colocaremos un 0 para que no haya problemas al utilizar los campos, aunque otra opcion seria borrar los registros que contengan un valor nulo pero eso suena extremo."
   ]
  },
  {
   "cell_type": "code",
   "execution_count": 4,
   "id": "bba81578",
   "metadata": {
    "execution": {
     "iopub.execute_input": "2024-04-25T07:12:03.060268Z",
     "iopub.status.busy": "2024-04-25T07:12:03.058996Z",
     "iopub.status.idle": "2024-04-25T07:12:08.368723Z",
     "shell.execute_reply": "2024-04-25T07:12:08.367557Z"
    },
    "papermill": {
     "duration": 5.316536,
     "end_time": "2024-04-25T07:12:08.371486",
     "exception": false,
     "start_time": "2024-04-25T07:12:03.054950",
     "status": "completed"
    },
    "tags": []
   },
   "outputs": [],
   "source": [
    "# Eliminar filas con valores nulos\n",
    "#data_frame = data_frame.dropna()\n",
    "\n",
    "# Remplazar NANS por 0\n",
    "data_frame.fillna(0, inplace=True)"
   ]
  },
  {
   "cell_type": "markdown",
   "id": "9b048197",
   "metadata": {
    "papermill": {
     "duration": 0.003566,
     "end_time": "2024-04-25T07:12:08.379023",
     "exception": false,
     "start_time": "2024-04-25T07:12:08.375457",
     "status": "completed"
    },
    "tags": []
   },
   "source": [
    "listo, terminamos de extraer y cargar los datos, ahora toca responder los ejercicios"
   ]
  },
  {
   "cell_type": "markdown",
   "id": "94b65d8d",
   "metadata": {
    "papermill": {
     "duration": 0.00277,
     "end_time": "2024-04-25T07:12:08.385122",
     "exception": false,
     "start_time": "2024-04-25T07:12:08.382352",
     "status": "completed"
    },
    "tags": []
   },
   "source": [
    "# 1.-Mostrar los tipos de accidentes por cada estado"
   ]
  },
  {
   "cell_type": "code",
   "execution_count": 5,
   "id": "d2056494",
   "metadata": {
    "execution": {
     "iopub.execute_input": "2024-04-25T07:12:08.392688Z",
     "iopub.status.busy": "2024-04-25T07:12:08.392282Z",
     "iopub.status.idle": "2024-04-25T07:12:08.396722Z",
     "shell.execute_reply": "2024-04-25T07:12:08.395788Z"
    },
    "papermill": {
     "duration": 0.011154,
     "end_time": "2024-04-25T07:12:08.399271",
     "exception": false,
     "start_time": "2024-04-25T07:12:08.388117",
     "status": "completed"
    },
    "tags": []
   },
   "outputs": [],
   "source": [
    "#mañana, todavia es tempra"
   ]
  }
 ],
 "metadata": {
  "kaggle": {
   "accelerator": "none",
   "dataSources": [
    {
     "datasetId": 4875303,
     "sourceId": 8223234,
     "sourceType": "datasetVersion"
    }
   ],
   "dockerImageVersionId": 30702,
   "isGpuEnabled": false,
   "isInternetEnabled": true,
   "language": "python",
   "sourceType": "notebook"
  },
  "kernelspec": {
   "display_name": "Python 3",
   "language": "python",
   "name": "python3"
  },
  "language_info": {
   "codemirror_mode": {
    "name": "ipython",
    "version": 3
   },
   "file_extension": ".py",
   "mimetype": "text/x-python",
   "name": "python",
   "nbconvert_exporter": "python",
   "pygments_lexer": "ipython3",
   "version": "3.10.13"
  },
  "papermill": {
   "default_parameters": {},
   "duration": 93.966581,
   "end_time": "2024-04-25T07:12:09.826201",
   "environment_variables": {},
   "exception": null,
   "input_path": "__notebook__.ipynb",
   "output_path": "__notebook__.ipynb",
   "parameters": {},
   "start_time": "2024-04-25T07:10:35.859620",
   "version": "2.5.0"
  }
 },
 "nbformat": 4,
 "nbformat_minor": 5
}
