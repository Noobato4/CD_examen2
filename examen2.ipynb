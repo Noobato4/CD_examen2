{
 "cells": [
  {
   "cell_type": "code",
   "execution_count": 1,
   "id": "5c7dc7b2",
   "metadata": {
    "_cell_guid": "b1076dfc-b9ad-4769-8c92-a6c4dae69d19",
    "_uuid": "8f2839f25d086af736a60e9eeb907d3b93b6e0e5",
    "execution": {
     "iopub.execute_input": "2024-04-26T05:29:05.829812Z",
     "iopub.status.busy": "2024-04-26T05:29:05.829032Z",
     "iopub.status.idle": "2024-04-26T05:29:06.926517Z",
     "shell.execute_reply": "2024-04-26T05:29:06.925208Z"
    },
    "papermill": {
     "duration": 1.108185,
     "end_time": "2024-04-26T05:29:06.930031",
     "exception": false,
     "start_time": "2024-04-26T05:29:05.821846",
     "status": "completed"
    },
    "tags": []
   },
   "outputs": [
    {
     "name": "stdout",
     "output_type": "stream",
     "text": [
      "/kaggle/input/atus-inegi/conjunto_de_datos/atus_anual_2005.csv\n",
      "/kaggle/input/atus-inegi/conjunto_de_datos/atus_anual_2004.csv\n",
      "/kaggle/input/atus-inegi/conjunto_de_datos/atus_anual_2021.csv\n",
      "/kaggle/input/atus-inegi/conjunto_de_datos/atus_anual_2017.csv\n",
      "/kaggle/input/atus-inegi/conjunto_de_datos/atus_anual_2003.csv\n",
      "/kaggle/input/atus-inegi/conjunto_de_datos/atus_anual_2012.csv\n",
      "/kaggle/input/atus-inegi/conjunto_de_datos/atus_anual_2014.csv\n",
      "/kaggle/input/atus-inegi/conjunto_de_datos/atus_anual_2010.csv\n",
      "/kaggle/input/atus-inegi/conjunto_de_datos/atus_anual_2007.csv\n",
      "/kaggle/input/atus-inegi/conjunto_de_datos/atus_anual_2016.csv\n",
      "/kaggle/input/atus-inegi/conjunto_de_datos/atus_anual_1998.csv\n",
      "/kaggle/input/atus-inegi/conjunto_de_datos/atus_anual_2006.csv\n",
      "/kaggle/input/atus-inegi/conjunto_de_datos/atus_anual_2009.csv\n",
      "/kaggle/input/atus-inegi/conjunto_de_datos/atus_anual_2008.csv\n",
      "/kaggle/input/atus-inegi/conjunto_de_datos/atus_anual_2011.csv\n",
      "/kaggle/input/atus-inegi/conjunto_de_datos/atus_anual_2022.csv\n",
      "/kaggle/input/atus-inegi/conjunto_de_datos/atus_anual_2019.csv\n",
      "/kaggle/input/atus-inegi/conjunto_de_datos/atus_anual_2002.csv\n",
      "/kaggle/input/atus-inegi/conjunto_de_datos/atus_anual_2020.csv\n",
      "/kaggle/input/atus-inegi/conjunto_de_datos/atus_anual_2001.csv\n",
      "/kaggle/input/atus-inegi/conjunto_de_datos/atus_anual_2015.csv\n",
      "/kaggle/input/atus-inegi/conjunto_de_datos/atus_anual_2000.csv\n",
      "/kaggle/input/atus-inegi/conjunto_de_datos/atus_anual_1997.csv\n",
      "/kaggle/input/atus-inegi/conjunto_de_datos/atus_anual_2013.csv\n",
      "/kaggle/input/atus-inegi/conjunto_de_datos/atus_anual_1999.csv\n",
      "/kaggle/input/atus-inegi/conjunto_de_datos/atus_anual_2018.csv\n",
      "/kaggle/input/geojson/georef-mexico-state-millesimepublic.geojson\n"
     ]
    }
   ],
   "source": [
    "import numpy as np \n",
    "import pandas as pd \n",
    "import os\n",
    "for dirname, _, filenames in os.walk('/kaggle/input'):\n",
    "    for filename in filenames:\n",
    "        print(os.path.join(dirname, filename))"
   ]
  },
  {
   "cell_type": "markdown",
   "id": "5f7bade6",
   "metadata": {
    "papermill": {
     "duration": 0.004724,
     "end_time": "2024-04-26T05:29:06.940295",
     "exception": false,
     "start_time": "2024-04-26T05:29:06.935571",
     "status": "completed"
    },
    "tags": []
   },
   "source": [
    "# Cargar en un Dataframe de pandas los archivos para poder trabajar con ellos\n",
    "\n",
    "antes de concatenar los archivos, verificamos si se leyeron de forma correcta por que habia algunos archivos que recorrian la primer columna y la utilizaban como indice."
   ]
  },
  {
   "cell_type": "code",
   "execution_count": 2,
   "id": "18b7a85d",
   "metadata": {
    "execution": {
     "iopub.execute_input": "2024-04-26T05:29:06.952819Z",
     "iopub.status.busy": "2024-04-26T05:29:06.951924Z",
     "iopub.status.idle": "2024-04-26T05:30:45.463472Z",
     "shell.execute_reply": "2024-04-26T05:30:45.462082Z"
    },
    "papermill": {
     "duration": 98.525396,
     "end_time": "2024-04-26T05:30:45.470489",
     "exception": false,
     "start_time": "2024-04-26T05:29:06.945093",
     "status": "completed"
    },
    "tags": []
   },
   "outputs": [
    {
     "name": "stdout",
     "output_type": "stream",
     "text": [
      "   COBERTURA  ID_ENTIDAD  ID_MUNICIPIO  ANIO  MES  ID_HORA  ID_MINUTO  ID_DIA  \\\n",
      "0  Municipal           1             1  1997    1       20          0       7   \n",
      "1  Municipal           1             1  1997    1       20          0      19   \n",
      "\n",
      "  DIASEMANA                        URBANA  ... PEATMUERTO PEATHERIDO  \\\n",
      "0    Martes  Accidente en no intersección  ...          0          0   \n",
      "1   Domingo     Accidente en intersección  ...          0          0   \n",
      "\n",
      "   CICLMUERTO  CICLHERIDO  OTROMUERTO  OTROHERIDO  NEMUERTO  NEHERIDO  \\\n",
      "0           0           0           0           0         0         0   \n",
      "1           0           0           0           0         0         0   \n",
      "\n",
      "      CLASACC           ESTATUS  \n",
      "0  Sólo daños  Cifras Revisadas  \n",
      "1    No fatal  Cifras Revisadas  \n",
      "\n",
      "[2 rows x 45 columns]\n"
     ]
    }
   ],
   "source": [
    "#Años de los archivos que tuvieron el problema antes mencionado: 1997,1998,1999,2000,2001,\n",
    "#2002,2003,2004,2005,2006,2007,2008,2009,2010,2011,2012,2013,2014,2015,2016,2017,2018,2019,\n",
    "#2020 y 2021...... osea de 1997-2021\n",
    "\n",
    "# Leer los archivos para luego unirlos, los primeros 25 tenian problemas con el indice :/\n",
    "\n",
    "# Lista de años con el indice mal\n",
    "años = [1997,1998,1999,2000,2001,2002,2003,2004,2005,2006,2007,2008,2009,2010, 2011, 2012, 2013, 2014, 2015, 2016, 2017, 2018, 2019, 2020, 2021]\n",
    "\n",
    "# el 2022 que quedo solo por que es el unico sin problemas de indice\n",
    "añosb = [2022]\n",
    "\n",
    "# Ruta base donde se encuentran los archivos\n",
    "base_path = '/kaggle/input/atus-inegi/conjunto_de_datos/atus_anual_{}.csv'\n",
    "\n",
    "# Lista para almacenar los DataFrames\n",
    "dfs = []\n",
    "\n",
    "# Leer cada archivo y agregarlo a la lista de DataFrames\n",
    "for year in años:\n",
    "    # Construir la ruta completa del archivo para el año actual\n",
    "    file_path = base_path.format(year)\n",
    "    # Leer el archivo y especificar index_col=False\n",
    "    df1 = pd.read_csv(file_path, index_col =False)\n",
    "    # Agregar el DataFrame a la lista\n",
    "    dfs.append(df1)\n",
    "\n",
    "# Lo mismo para el 2022\n",
    "for year in añosb:\n",
    "    file_path = base_path.format(year)\n",
    "    df2 = pd.read_csv(file_path)\n",
    "    dfs.append(df2)\n",
    "    \n",
    "data_frame = pd.concat(dfs)\n",
    "print(data_frame.head(2))"
   ]
  },
  {
   "cell_type": "markdown",
   "id": "08719b6e",
   "metadata": {
    "papermill": {
     "duration": 0.00461,
     "end_time": "2024-04-26T05:30:45.480059",
     "exception": false,
     "start_time": "2024-04-26T05:30:45.475449",
     "status": "completed"
    },
    "tags": []
   },
   "source": [
    "Para probar que se cargaron sin problemas los datos probamos checando que la columna anio tenga de valor minimo 1997 que es anio del archivo mas viejo, y valor maximo 22 que es el anio mas reciente del dataset, ademas de el total de registros, que debe ser un numero muy muy grande."
   ]
  },
  {
   "cell_type": "code",
   "execution_count": 3,
   "id": "e284a707",
   "metadata": {
    "execution": {
     "iopub.execute_input": "2024-04-26T05:30:45.491871Z",
     "iopub.status.busy": "2024-04-26T05:30:45.491381Z",
     "iopub.status.idle": "2024-04-26T05:30:45.517435Z",
     "shell.execute_reply": "2024-04-26T05:30:45.516031Z"
    },
    "papermill": {
     "duration": 0.035308,
     "end_time": "2024-04-26T05:30:45.520334",
     "exception": false,
     "start_time": "2024-04-26T05:30:45.485026",
     "status": "completed"
    },
    "tags": []
   },
   "outputs": [
    {
     "name": "stdout",
     "output_type": "stream",
     "text": [
      "El año más bajo en la columna ANIO es: 1997\n",
      "El año más alto en la columna ANIO es: 2022\n",
      "El DataFrame tiene un total de 9943594 registros.\n"
     ]
    }
   ],
   "source": [
    "# Imprimir el año más bajo y mas alto\n",
    "anio_minimo = data_frame['ANIO'].min()\n",
    "anio_maximo = data_frame['ANIO'].max()\n",
    "print(\"El año más bajo en la columna ANIO es:\", anio_minimo)\n",
    "print(\"El año más alto en la columna ANIO es:\", anio_maximo)\n",
    "\n",
    "#imprimir numero total de registros del dataset\n",
    "total_registros = data_frame.shape[0]\n",
    "print(\"El DataFrame tiene un total de\", total_registros, \"registros.\")"
   ]
  },
  {
   "cell_type": "markdown",
   "id": "4370c678",
   "metadata": {
    "papermill": {
     "duration": 0.004793,
     "end_time": "2024-04-26T05:30:45.530244",
     "exception": false,
     "start_time": "2024-04-26T05:30:45.525451",
     "status": "completed"
    },
    "tags": []
   },
   "source": [
    "# Preparar datos\n",
    "En los campos nulos de los registros del dataset colocaremos un 0 para que no haya problemas al utilizar los campos, aunque otra opcion seria borrar los registros que contengan un valor nulo pero eso suena extremo."
   ]
  },
  {
   "cell_type": "code",
   "execution_count": 4,
   "id": "70d17c68",
   "metadata": {
    "execution": {
     "iopub.execute_input": "2024-04-26T05:30:45.542814Z",
     "iopub.status.busy": "2024-04-26T05:30:45.541711Z",
     "iopub.status.idle": "2024-04-26T05:31:11.139748Z",
     "shell.execute_reply": "2024-04-26T05:31:11.138521Z"
    },
    "papermill": {
     "duration": 25.60696,
     "end_time": "2024-04-26T05:31:11.142311",
     "exception": false,
     "start_time": "2024-04-26T05:30:45.535351",
     "status": "completed"
    },
    "tags": []
   },
   "outputs": [
    {
     "name": "stdout",
     "output_type": "stream",
     "text": [
      "No hay celdas nulas en el DataFrame.\n"
     ]
    }
   ],
   "source": [
    "#Eliminar filas con valores nulos, esto es opcional ya que mejor lo remplazamos por ceros\n",
    "#data_frame = data_frame.dropna()\n",
    "\n",
    "#verificar que los tipos de datos de cada columna sean correcto\n",
    "#tipos_de_dato = data_frame.dtypes\n",
    "#print(tipos_de_dato)\n",
    "\n",
    "#Hacer que la codificacion este correcta para que no haya errores de caracteres.\n",
    "# Convertir todas las celdas del DataFrame a UTF-8\n",
    "#data_frame = data_frame.applymap(lambda x: x.encode('latin-1').decode('utf-8', 'ignore'))\n",
    "\n",
    "#Remplazar valores nulos de registros por 0\n",
    "data_frame.fillna(0, inplace=True)\n",
    "#Verificar si hay alguna celda nula en el DataFrame\n",
    "hay_nulos = data_frame.isnull().any()\n",
    "if hay_nulos.any():\n",
    "    print(\"Hay al menos una celda nula en el DataFrame.\")\n",
    "else:\n",
    "    print(\"No hay celdas nulas en el DataFrame.\")"
   ]
  },
  {
   "cell_type": "markdown",
   "id": "9a2e1594",
   "metadata": {
    "papermill": {
     "duration": 0.004925,
     "end_time": "2024-04-26T05:31:11.152333",
     "exception": false,
     "start_time": "2024-04-26T05:31:11.147408",
     "status": "completed"
    },
    "tags": []
   },
   "source": [
    "listo, terminamos de extraer y cargar los datos, ahora toca responder los ejercicios"
   ]
  },
  {
   "cell_type": "markdown",
   "id": "1f30743d",
   "metadata": {
    "papermill": {
     "duration": 0.004774,
     "end_time": "2024-04-26T05:31:11.162311",
     "exception": false,
     "start_time": "2024-04-26T05:31:11.157537",
     "status": "completed"
    },
    "tags": []
   },
   "source": [
    "# 1.-Mostrar los tipos de accidentes por cada estado"
   ]
  },
  {
   "cell_type": "code",
   "execution_count": 5,
   "id": "0ed6d27b",
   "metadata": {
    "execution": {
     "iopub.execute_input": "2024-04-26T05:31:11.175920Z",
     "iopub.status.busy": "2024-04-26T05:31:11.174552Z",
     "iopub.status.idle": "2024-04-26T05:32:26.616666Z",
     "shell.execute_reply": "2024-04-26T05:32:26.615470Z"
    },
    "papermill": {
     "duration": 75.456929,
     "end_time": "2024-04-26T05:32:26.624257",
     "exception": false,
     "start_time": "2024-04-26T05:31:11.167328",
     "status": "completed"
    },
    "tags": []
   },
   "outputs": [
    {
     "name": "stdout",
     "output_type": "stream",
     "text": [
      "TIPACCID             Caída de pasajero  Certificado cero  Colisión con animal  \\\n",
      "sta_name                                                                        \n",
      "Aguascalientes                    4232               412                 6808   \n",
      "Baja California                  39872                 0                38936   \n",
      "Baja California Sur               2292                 4                 1188   \n",
      "Campeche                           732               280                  912   \n",
      "Chiapas                            776             22304                  972   \n",
      "\n",
      "TIPACCID             Colisión con ciclista  Colisión con ferrocarril  \\\n",
      "sta_name                                                               \n",
      "Aguascalientes                       14468                       660   \n",
      "Baja California                      13468                       580   \n",
      "Baja California Sur                   3628                         4   \n",
      "Campeche                              7892                       208   \n",
      "Chiapas                               5708                        96   \n",
      "\n",
      "TIPACCID             Colisión con motocicleta  Colisión con objeto fijo  \\\n",
      "sta_name                                                                  \n",
      "Aguascalientes                          32324                     85508   \n",
      "Baja California                         41460                    179980   \n",
      "Baja California Sur                     14520                     41416   \n",
      "Campeche                                56580                     29760   \n",
      "Chiapas                                 36528                     42036   \n",
      "\n",
      "TIPACCID             Colisión con peatón (atropellamiento)  \\\n",
      "sta_name                                                     \n",
      "Aguascalientes                                       28468   \n",
      "Baja California                                     120168   \n",
      "Baja California Sur                                  13436   \n",
      "Campeche                                              8928   \n",
      "Chiapas                                              15680   \n",
      "\n",
      "TIPACCID             Colisión con vehículo automotor  Incendio   Otro  \\\n",
      "sta_name                                                                \n",
      "Aguascalientes                                273324       540  11648   \n",
      "Baja California                              1206368      5132  20072   \n",
      "Baja California Sur                           308672       300   2764   \n",
      "Campeche                                      218796       244   4928   \n",
      "Chiapas                                       230112       260    592   \n",
      "\n",
      "TIPACCID             Salida del camino  Volcadura  \n",
      "sta_name                                           \n",
      "Aguascalientes                   14244       8596  \n",
      "Baja California                  58460      19952  \n",
      "Baja California Sur               8344      12916  \n",
      "Campeche                          9748       4012  \n",
      "Chiapas                          15064      12692  \n"
     ]
    }
   ],
   "source": [
    "#mañana, todavia es tempra, creo que seran 2 graficas para \n",
    "\n",
    "# Crear un nuevo DataFrame solo con las columnas 'ID_ENTIDAD' y 'TIPACCID'\n",
    "df1 = data_frame[['ID_ENTIDAD', 'TIPACCID']].copy()\n",
    "\n",
    "# Verificar el nuevo DataFrame\n",
    "#print(df1.head())\n",
    "\n",
    "#----------------------------------------------------------------------------------------#\n",
    "\n",
    "#representar esto, y usar mapa\n",
    "import geopandas as gpd\n",
    "import pandas as pd\n",
    "\n",
    "# Cargar el shapefile de México\n",
    "mexico = gpd.read_file(\"/kaggle/input/geojson/georef-mexico-state-millesimepublic.geojson\")\n",
    "\n",
    "# Verificar las primeras filas del DataFrame\n",
    "#print(mexico.head())\n",
    "\n",
    "# Extraer el primer elemento de cada lista en la columna 'sta_code'\n",
    "mexico['sta_code'] = mexico['sta_code'].apply(lambda x: x[0])\n",
    "\n",
    "# Convertir la columna 'sta_code' a un tipo de datos numérico\n",
    "mexico['sta_code'] = mexico['sta_code'].astype(int)\n",
    "\n",
    "# Verificar los tipos de datos después de la conversión\n",
    "#print(mexico.dtypes)\n",
    "\n",
    "# Crear un nuevo DataFrame solo con las columnas 'ID_ENTIDAD' y 'TIPACCID'\n",
    "df1 = data_frame[['ID_ENTIDAD', 'TIPACCID']].copy()\n",
    "\n",
    "# Desagregar las listas en filas individuales en el DataFrame 'df1'\n",
    "df1_exploded = df1.explode('TIPACCID')\n",
    "\n",
    "# Fusionar el GeoDataFrame 'mexico' con el DataFrame 'df1_exploded' en la columna 'ID_ENTIDAD' y 'sta_code'\n",
    "mexico_accidentes = mexico.merge(df1_exploded, left_on='sta_code', right_on='ID_ENTIDAD')\n",
    "\n",
    "# Desglosar las listas en la columna 'sta_name' en filas individuales\n",
    "mexico_accidentes_exploded = mexico_accidentes.explode('sta_name')\n",
    "\n",
    "# Contar el número de accidentes por tipo en cada estado\n",
    "accidentes_por_estado = mexico_accidentes_exploded.groupby(['sta_name', 'TIPACCID']).size().unstack(fill_value=0)\n",
    "\n",
    "# Verificar los datos obtenidos\n",
    "#print(accidentes_por_estado.head())\n",
    "\n",
    "\n",
    "# Conservar solo las columnas 'sta_name' y 'TIPACCID' en el DataFrame 'accidentes_por_estado'\n",
    "\n",
    "# Verificar los datos obtenidos\n",
    "print(accidentes_por_estado.head())"
   ]
  },
  {
   "cell_type": "markdown",
   "id": "f5a58a70",
   "metadata": {
    "papermill": {
     "duration": 0.00537,
     "end_time": "2024-04-26T05:32:26.635008",
     "exception": false,
     "start_time": "2024-04-26T05:32:26.629638",
     "status": "completed"
    },
    "tags": []
   },
   "source": [
    "aqui la dejo hoy, toy cansado, mañana a ver si ya lo meto al mapa y/o graficas."
   ]
  },
  {
   "cell_type": "markdown",
   "id": "b7b16189",
   "metadata": {
    "papermill": {
     "duration": 0.004981,
     "end_time": "2024-04-26T05:32:26.645244",
     "exception": false,
     "start_time": "2024-04-26T05:32:26.640263",
     "status": "completed"
    },
    "tags": []
   },
   "source": [
    "# 2.- Mostrar la cantidad de accidentes por día de la semana en Sinaloa por edad del conductor"
   ]
  }
 ],
 "metadata": {
  "kaggle": {
   "accelerator": "none",
   "dataSources": [
    {
     "datasetId": 4875303,
     "sourceId": 8223234,
     "sourceType": "datasetVersion"
    },
    {
     "datasetId": 4882390,
     "sourceId": 8232588,
     "sourceType": "datasetVersion"
    }
   ],
   "dockerImageVersionId": 30698,
   "isGpuEnabled": false,
   "isInternetEnabled": true,
   "language": "python",
   "sourceType": "notebook"
  },
  "kernelspec": {
   "display_name": "Python 3",
   "language": "python",
   "name": "python3"
  },
  "language_info": {
   "codemirror_mode": {
    "name": "ipython",
    "version": 3
   },
   "file_extension": ".py",
   "mimetype": "text/x-python",
   "name": "python",
   "nbconvert_exporter": "python",
   "pygments_lexer": "ipython3",
   "version": "3.10.13"
  },
  "papermill": {
   "default_parameters": {},
   "duration": 206.726904,
   "end_time": "2024-04-26T05:32:29.373360",
   "environment_variables": {},
   "exception": null,
   "input_path": "__notebook__.ipynb",
   "output_path": "__notebook__.ipynb",
   "parameters": {},
   "start_time": "2024-04-26T05:29:02.646456",
   "version": "2.5.0"
  }
 },
 "nbformat": 4,
 "nbformat_minor": 5
}
